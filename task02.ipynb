{
 "cells": [
  {
   "cell_type": "code",
   "execution_count": 1,
   "id": "9cf573a5-ae5d-43c2-9258-4ab02a5db8c5",
   "metadata": {},
   "outputs": [
    {
     "name": "stdout",
     "output_type": "stream",
     "text": [
      "Defaulting to user installation because normal site-packages is not writeable\n",
      "Collecting SpeechRecognition\n",
      "  Downloading speechrecognition-3.14.2-py3-none-any.whl (32.9 MB)\n",
      "     ---------------------------------------- 32.9/32.9 MB 4.8 MB/s eta 0:00:00\n",
      "Collecting pydub\n",
      "  Downloading pydub-0.25.1-py2.py3-none-any.whl (32 kB)\n",
      "Requirement already satisfied: typing-extensions in c:\\users\\shubham\\appdata\\roaming\\python\\python311\\site-packages (from SpeechRecognition) (4.13.2)\n",
      "Installing collected packages: pydub, SpeechRecognition\n",
      "Successfully installed SpeechRecognition-3.14.2 pydub-0.25.1\n",
      "Note: you may need to restart the kernel to use updated packages.\n"
     ]
    },
    {
     "name": "stderr",
     "output_type": "stream",
     "text": [
      "\n",
      "[notice] A new release of pip available: 22.2.2 -> 25.1.1\n",
      "[notice] To update, run: C:\\Program Files\\Python311\\python.exe -m pip install --upgrade pip\n"
     ]
    }
   ],
   "source": [
    "pip install SpeechRecognition pydub\n"
   ]
  },
  {
   "cell_type": "code",
   "execution_count": 2,
   "id": "eaba850f-1411-4fc7-96fd-a833f3babfe8",
   "metadata": {},
   "outputs": [
    {
     "name": "stdout",
     "output_type": "stream",
     "text": [
      "Defaulting to user installation because normal site-packages is not writeable\n",
      "Collecting ffmpeg\n",
      "  Downloading ffmpeg-1.4.tar.gz (5.1 kB)\n",
      "  Preparing metadata (setup.py): started\n",
      "  Preparing metadata (setup.py): finished with status 'done'\n",
      "Using legacy 'setup.py install' for ffmpeg, since package 'wheel' is not installed.\n",
      "Installing collected packages: ffmpeg\n",
      "  Running setup.py install for ffmpeg: started\n",
      "  Running setup.py install for ffmpeg: finished with status 'done'\n",
      "Successfully installed ffmpeg-1.4\n",
      "Note: you may need to restart the kernel to use updated packages.\n"
     ]
    },
    {
     "name": "stderr",
     "output_type": "stream",
     "text": [
      "\n",
      "[notice] A new release of pip available: 22.2.2 -> 25.1.1\n",
      "[notice] To update, run: C:\\Program Files\\Python311\\python.exe -m pip install --upgrade pip\n"
     ]
    }
   ],
   "source": [
    "pip install ffmpeg\n"
   ]
  },
  {
   "cell_type": "code",
   "execution_count": 5,
   "id": "dd7ef0ec-2a02-4591-a14d-0cbc199917d2",
   "metadata": {},
   "outputs": [
    {
     "name": "stdout",
     "output_type": "stream",
     "text": [
      "Listening to the audio...\n",
      "Transcribing...\n",
      "Transcription: good morning tell me about yourself\n"
     ]
    }
   ],
   "source": [
    "import speech_recognition as sr\n",
    "\n",
    "def transcribe_audio(audio_path):\n",
    "    # Initialize recognizer\n",
    "    recognizer = sr.Recognizer()\n",
    "\n",
    "    # Load the audio file\n",
    "    with sr.AudioFile(audio_path) as source:\n",
    "        print(\"Listening to the audio...\")\n",
    "        audio = recognizer.record(source)\n",
    "\n",
    "    # Try recognizing the speech\n",
    "    try:\n",
    "        print(\"Transcribing...\")\n",
    "        text = recognizer.recognize_google(audio)\n",
    "        print(\"Transcription:\", text)\n",
    "    except sr.UnknownValueError:\n",
    "        print(\"Sorry, could not understand the audio.\")\n",
    "    except sr.RequestError as e:\n",
    "        print(f\"Could not request results from the API; {e}\")\n",
    "\n",
    "# Replace 'sample_aud.wav' with your file path\n",
    "transcribe_audio(\"sample_aud.wav\")\n"
   ]
  },
  {
   "cell_type": "code",
   "execution_count": null,
   "id": "e7ed54a6-c58a-4da3-9902-a5b3c3698de0",
   "metadata": {},
   "outputs": [],
   "source": []
  }
 ],
 "metadata": {
  "kernelspec": {
   "display_name": "Python (myenv)",
   "language": "python",
   "name": "myenv"
  },
  "language_info": {
   "codemirror_mode": {
    "name": "ipython",
    "version": 3
   },
   "file_extension": ".py",
   "mimetype": "text/x-python",
   "name": "python",
   "nbconvert_exporter": "python",
   "pygments_lexer": "ipython3",
   "version": "3.11.0rc1"
  }
 },
 "nbformat": 4,
 "nbformat_minor": 5
}
